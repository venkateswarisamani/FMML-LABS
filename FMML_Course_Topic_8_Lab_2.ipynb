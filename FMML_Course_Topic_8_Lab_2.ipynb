{
  "nbformat": 4,
  "nbformat_minor": 0,
  "metadata": {
    "colab": {
      "provenance": [],
      "include_colab_link": true
    },
    "kernelspec": {
      "name": "python3",
      "display_name": "Python 3"
    },
    "language_info": {
      "name": "python"
    }
  },
  "cells": [
    {
      "cell_type": "markdown",
      "metadata": {
        "id": "view-in-github",
        "colab_type": "text"
      },
      "source": [
        "<a href=\"https://colab.research.google.com/github/venkateswarisamani/FMML-LABS/blob/main/FMML_Course_Topic_8_Lab_2.ipynb\" target=\"_parent\"><img src=\"https://colab.research.google.com/assets/colab-badge.svg\" alt=\"Open In Colab\"/></a>"
      ]
    },
    {
      "cell_type": "markdown",
      "metadata": {
        "id": "zl9yMvGxbjXH"
      },
      "source": [
        "# Bayesian Machine Learning: Lab 2 - Naive Bayes Classifiers"
      ]
    },
    {
      "cell_type": "markdown",
      "metadata": {
        "id": "siJdZacSiByo"
      },
      "source": [
        "Lab by V Vijay Vignesh\n",
        "\n",
        "vijay.vignesh@research.iiit.ac.in"
      ]
    },
    {
      "cell_type": "code",
      "metadata": {
        "id": "XuHk3fBfUhx5"
      },
      "source": [
        "import os\n",
        "\n",
        "import numpy as np\n",
        "import pandas as pd\n",
        "\n",
        "from matplotlib import pyplot as plt\n",
        "import seaborn as sns\n",
        "import plotly.express as px\n",
        "import plotly.graph_objects as pg\n",
        "\n",
        "import tensorflow as tf\n",
        "import tensorflow_probability as tfp"
      ],
      "execution_count": 1,
      "outputs": []
    },
    {
      "cell_type": "code",
      "metadata": {
        "id": "DeUz8JRQQIqk"
      },
      "source": [
        "!wget https://raw.githubusercontent.com/Foundations-in-Modern-Machine-Learning/course-contents/main/Bayesian/data/symptoms-train.csv\n",
        "!wget https://raw.githubusercontent.com/Foundations-in-Modern-Machine-Learning/course-contents/main/Bayesian/data/symptoms-test.csv\n",
        "plt.style.use('ggplot')"
      ],
      "execution_count": null,
      "outputs": []
    },
    {
      "cell_type": "markdown",
      "metadata": {
        "id": "tJniRNJ2XsXg"
      },
      "source": [
        "## Priors Applied to Classification"
      ]
    },
    {
      "cell_type": "markdown",
      "metadata": {
        "id": "I5ydKnR1jfme"
      },
      "source": [
        "We have seen how our belief on real valued problems (regression tasks) changes with the prior. However, priors are also very important in classification tasks.\n",
        "\n",
        "Typically, when we have data belonging to two classes, and both classes are identical with different means, we draw the decision boundary between them (shown in the figure by the black line). This again"
      ]
    },
    {
      "cell_type": "markdown",
      "metadata": {
        "id": "H8o1-JpieonB"
      },
      "source": [
        "### Different Priors, Different Decision Boundaries"
      ]
    },
    {
      "cell_type": "code",
      "metadata": {
        "id": "PXEIdnQHX9oq"
      },
      "source": [
        "fig, ax = plt.subplots(figsize=(18, 8))\n",
        "x1 = np.random.normal(1.0, 0.3, size=5000)\n",
        "x2 = np.random.normal(0.0, 0.3, size=50000)\n",
        "x = np.concatenate([x1, x2])\n",
        "sns.histplot(x1, color='blue', alpha=0.5, ax=ax)\n",
        "sns.histplot(x2, color='red', alpha=0.5, ax=ax)\n",
        "ax.fill_between(np.linspace(-1.0, 0.7, 100), 0, 1800,  color='r', alpha=0.1)\n",
        "ax.fill_between(np.linspace(0.7, 2.0, 100), 0, 1800,  color='b', alpha=0.1)\n",
        "ax.vlines(0.5, 0, 1750, color=\"k\", linestyles=\"--\", lw=3)\n",
        "ax.vlines(0.7, 0, 1750, color=\"g\", linestyles=\"--\", lw=3)\n",
        "ax.scatter(x1, [np.random.randint(2000, 3000) for _ in x1], color='b', s=1)\n",
        "ax.scatter(x2, [np.random.randint(2000, 3000) for _ in x2], color='r', s=1)\n",
        "ax.set_xlim(-1.0, 2.0)\n",
        "ax.set_ylim(0, 3200)\n",
        "plt.show()"
      ],
      "execution_count": null,
      "outputs": []
    },
    {
      "cell_type": "markdown",
      "metadata": {
        "id": "kCp1NU5Yt0Ek"
      },
      "source": [
        "Prior information can be more complex. If the probability of both the classes is the same, but one has **higher variance** than the other (more spread out), then the decision boundary can again get skewed.\n",
        "\n",
        "An example of this behavior is shown below."
      ]
    },
    {
      "cell_type": "code",
      "metadata": {
        "id": "nHqzfIxTsxzO"
      },
      "source": [
        "fig, ax = plt.subplots(figsize=(18, 8))\n",
        "x1 = np.random.normal(1.0, 0.5, size=10000)\n",
        "x2 = np.random.normal(0.0, 0.3, size=10000)\n",
        "x = np.concatenate([x1, x2])\n",
        "sns.histplot(x1, color='blue', alpha=0.5, ax=ax)\n",
        "sns.histplot(x2, color='red', alpha=0.5, ax=ax)\n",
        "ax.fill_between(np.linspace(-1.0, 0.4, 100), 0, 1800,  color='r', alpha=0.1)\n",
        "ax.fill_between(np.linspace(0.4, 2.0, 100), 0, 1800,  color='b', alpha=0.1)\n",
        "ax.vlines(0.5, 0, 1750, color=\"k\", linestyles=\"--\", lw=3)\n",
        "ax.vlines(0.4, 0, 1750, color=\"g\", linestyles=\"--\", lw=3)\n",
        "ax.scatter(x1, [np.random.randint(2000, 3000) for _ in x1], color='b', s=1)\n",
        "ax.scatter(x2, [np.random.randint(2000, 3000) for _ in x2], color='r', s=1)\n",
        "ax.set_xlim(-1.0, 2.0)\n",
        "ax.set_ylim(0, 3200)\n",
        "plt.show()"
      ],
      "execution_count": null,
      "outputs": []
    },
    {
      "cell_type": "markdown",
      "metadata": {
        "id": "kYuPxraYetWV"
      },
      "source": [
        "### When Priors force you to change your model"
      ]
    },
    {
      "cell_type": "markdown",
      "metadata": {
        "id": "3p5_oU7GuFmS"
      },
      "source": [
        "Finally, Prior understanding can change your model in totality. If the variances are very different, it's possible that a single split may not suffice.\n",
        "\n",
        "This is a **Callback to Decision Trees** where a single real valued parameter may end up in **multiple splits**. Below is an example of when this might be necessary."
      ]
    },
    {
      "cell_type": "code",
      "metadata": {
        "id": "ocfzOtcIlw3D"
      },
      "source": [
        "fig, ax = plt.subplots(figsize=(18, 8))\n",
        "x1 = np.random.normal(1.0, 0.6, size=5000)\n",
        "x2 = np.random.normal(0.0, 0.1, size=5000)\n",
        "x = np.concatenate([x1, x2])\n",
        "sns.histplot(x1, color='blue', alpha=0.5, ax=ax)\n",
        "sns.histplot(x2, color='red', alpha=0.5, ax=ax)\n",
        "ax.fill_between(np.linspace(-1.0, -0.25, 100), 0, 1800,  color='b', alpha=0.1)\n",
        "ax.fill_between(np.linspace(-0.25, 0.15, 100), 0, 1800,  color='r', alpha=0.1)\n",
        "ax.fill_between(np.linspace(0.15, 2.0, 100), 0, 1800,  color='b', alpha=0.1)\n",
        "ax.vlines(0.5, 0, 1750, color=\"k\", linestyles=\"--\", lw=3)\n",
        "ax.vlines(0.15, 0, 1750, color=\"g\", linestyles=\"--\", lw=3)\n",
        "ax.vlines(-0.25, 0, 1750, color=\"g\", linestyles=\"--\", lw=3)\n",
        "ax.scatter(x1, [np.random.randint(2000, 3000) for _ in x1], color='b', s=1)\n",
        "ax.scatter(x2, [np.random.randint(2000, 3000) for _ in x2], color='r', s=1)\n",
        "ax.set_xlim(-1.0, 2.0)\n",
        "ax.set_ylim(0, 3200)\n",
        "plt.show()"
      ],
      "execution_count": null,
      "outputs": []
    },
    {
      "cell_type": "markdown",
      "metadata": {
        "id": "LNAb9pDLd1CC"
      },
      "source": [
        "## Application to HealthCare: Predicting Diseases from Symptoms"
      ]
    },
    {
      "cell_type": "markdown",
      "metadata": {
        "id": "Gf4SxWZ0eENY"
      },
      "source": [
        "### Data you learn at School"
      ]
    },
    {
      "cell_type": "markdown",
      "metadata": {
        "id": "rmQo_0a9ULZe"
      },
      "source": [
        "Let's take a look at the Diseases and their Symptoms dataset. This dataset is downloaded from [Kaggle](https://kaggle.com/datasets).\n",
        "\n",
        "We will start by reading the CSV file, processing it, analyzing and plotting the grid of diseases and their symptoms. We also perform some data preprocessing, converting the table to patients into a grid of counts, dropping a column, clustering rows, etc. All of this manipulation is done in Pandas."
      ]
    },
    {
      "cell_type": "code",
      "metadata": {
        "colab": {
          "base_uri": "https://localhost:8080/",
          "height": 362
        },
        "id": "KsWdlSOQW33z",
        "outputId": "db5bb093-4f35-4738-d682-37b7a9de5186"
      },
      "source": [
        "patients_df = pd.read_csv(\"symptoms-train.csv\")\n",
        "patients_df[np.concatenate([np.random.choice(list(patients_df.columns), 6, replace=False), [\"prognosis\"]])].sample(10)"
      ],
      "execution_count": 6,
      "outputs": [
        {
          "output_type": "execute_result",
          "data": {
            "text/plain": [
              "      phlegm  chest_pain  receiving_blood_transfusion  family_history  \\\n",
              "1566       0           0                            0               0   \n",
              "3430       1           1                            0               0   \n",
              "594        0           0                            0               0   \n",
              "1849       0           0                            1               0   \n",
              "4919       0           0                            0               0   \n",
              "3025       0           0                            0               0   \n",
              "875        0           0                            0               0   \n",
              "4484       0           0                            0               0   \n",
              "2380       0           0                            0               0   \n",
              "3341       0           0                            1               0   \n",
              "\n",
              "      stomach_pain  burning_micturition            prognosis  \n",
              "1566             0                    0         Hypoglycemia  \n",
              "3430             0                    0            Pneumonia  \n",
              "594              0                    0              Typhoid  \n",
              "1849             0                    0          Hepatitis B  \n",
              "4919             0                    0             Impetigo  \n",
              "3025             0                    0      Hyperthyroidism  \n",
              "875              0                    0  Peptic ulcer diseae  \n",
              "4484             0                    0              Malaria  \n",
              "2380             0                    0         Hypoglycemia  \n",
              "3341             0                    0          Hepatitis B  "
            ],
            "text/html": [
              "\n",
              "  <div id=\"df-3a253038-cf9c-4537-86c3-5f5d6c36703e\" class=\"colab-df-container\">\n",
              "    <div>\n",
              "<style scoped>\n",
              "    .dataframe tbody tr th:only-of-type {\n",
              "        vertical-align: middle;\n",
              "    }\n",
              "\n",
              "    .dataframe tbody tr th {\n",
              "        vertical-align: top;\n",
              "    }\n",
              "\n",
              "    .dataframe thead th {\n",
              "        text-align: right;\n",
              "    }\n",
              "</style>\n",
              "<table border=\"1\" class=\"dataframe\">\n",
              "  <thead>\n",
              "    <tr style=\"text-align: right;\">\n",
              "      <th></th>\n",
              "      <th>phlegm</th>\n",
              "      <th>chest_pain</th>\n",
              "      <th>receiving_blood_transfusion</th>\n",
              "      <th>family_history</th>\n",
              "      <th>stomach_pain</th>\n",
              "      <th>burning_micturition</th>\n",
              "      <th>prognosis</th>\n",
              "    </tr>\n",
              "  </thead>\n",
              "  <tbody>\n",
              "    <tr>\n",
              "      <th>1566</th>\n",
              "      <td>0</td>\n",
              "      <td>0</td>\n",
              "      <td>0</td>\n",
              "      <td>0</td>\n",
              "      <td>0</td>\n",
              "      <td>0</td>\n",
              "      <td>Hypoglycemia</td>\n",
              "    </tr>\n",
              "    <tr>\n",
              "      <th>3430</th>\n",
              "      <td>1</td>\n",
              "      <td>1</td>\n",
              "      <td>0</td>\n",
              "      <td>0</td>\n",
              "      <td>0</td>\n",
              "      <td>0</td>\n",
              "      <td>Pneumonia</td>\n",
              "    </tr>\n",
              "    <tr>\n",
              "      <th>594</th>\n",
              "      <td>0</td>\n",
              "      <td>0</td>\n",
              "      <td>0</td>\n",
              "      <td>0</td>\n",
              "      <td>0</td>\n",
              "      <td>0</td>\n",
              "      <td>Typhoid</td>\n",
              "    </tr>\n",
              "    <tr>\n",
              "      <th>1849</th>\n",
              "      <td>0</td>\n",
              "      <td>0</td>\n",
              "      <td>1</td>\n",
              "      <td>0</td>\n",
              "      <td>0</td>\n",
              "      <td>0</td>\n",
              "      <td>Hepatitis B</td>\n",
              "    </tr>\n",
              "    <tr>\n",
              "      <th>4919</th>\n",
              "      <td>0</td>\n",
              "      <td>0</td>\n",
              "      <td>0</td>\n",
              "      <td>0</td>\n",
              "      <td>0</td>\n",
              "      <td>0</td>\n",
              "      <td>Impetigo</td>\n",
              "    </tr>\n",
              "    <tr>\n",
              "      <th>3025</th>\n",
              "      <td>0</td>\n",
              "      <td>0</td>\n",
              "      <td>0</td>\n",
              "      <td>0</td>\n",
              "      <td>0</td>\n",
              "      <td>0</td>\n",
              "      <td>Hyperthyroidism</td>\n",
              "    </tr>\n",
              "    <tr>\n",
              "      <th>875</th>\n",
              "      <td>0</td>\n",
              "      <td>0</td>\n",
              "      <td>0</td>\n",
              "      <td>0</td>\n",
              "      <td>0</td>\n",
              "      <td>0</td>\n",
              "      <td>Peptic ulcer diseae</td>\n",
              "    </tr>\n",
              "    <tr>\n",
              "      <th>4484</th>\n",
              "      <td>0</td>\n",
              "      <td>0</td>\n",
              "      <td>0</td>\n",
              "      <td>0</td>\n",
              "      <td>0</td>\n",
              "      <td>0</td>\n",
              "      <td>Malaria</td>\n",
              "    </tr>\n",
              "    <tr>\n",
              "      <th>2380</th>\n",
              "      <td>0</td>\n",
              "      <td>0</td>\n",
              "      <td>0</td>\n",
              "      <td>0</td>\n",
              "      <td>0</td>\n",
              "      <td>0</td>\n",
              "      <td>Hypoglycemia</td>\n",
              "    </tr>\n",
              "    <tr>\n",
              "      <th>3341</th>\n",
              "      <td>0</td>\n",
              "      <td>0</td>\n",
              "      <td>1</td>\n",
              "      <td>0</td>\n",
              "      <td>0</td>\n",
              "      <td>0</td>\n",
              "      <td>Hepatitis B</td>\n",
              "    </tr>\n",
              "  </tbody>\n",
              "</table>\n",
              "</div>\n",
              "    <div class=\"colab-df-buttons\">\n",
              "\n",
              "  <div class=\"colab-df-container\">\n",
              "    <button class=\"colab-df-convert\" onclick=\"convertToInteractive('df-3a253038-cf9c-4537-86c3-5f5d6c36703e')\"\n",
              "            title=\"Convert this dataframe to an interactive table.\"\n",
              "            style=\"display:none;\">\n",
              "\n",
              "  <svg xmlns=\"http://www.w3.org/2000/svg\" height=\"24px\" viewBox=\"0 -960 960 960\">\n",
              "    <path d=\"M120-120v-720h720v720H120Zm60-500h600v-160H180v160Zm220 220h160v-160H400v160Zm0 220h160v-160H400v160ZM180-400h160v-160H180v160Zm440 0h160v-160H620v160ZM180-180h160v-160H180v160Zm440 0h160v-160H620v160Z\"/>\n",
              "  </svg>\n",
              "    </button>\n",
              "\n",
              "  <style>\n",
              "    .colab-df-container {\n",
              "      display:flex;\n",
              "      gap: 12px;\n",
              "    }\n",
              "\n",
              "    .colab-df-convert {\n",
              "      background-color: #E8F0FE;\n",
              "      border: none;\n",
              "      border-radius: 50%;\n",
              "      cursor: pointer;\n",
              "      display: none;\n",
              "      fill: #1967D2;\n",
              "      height: 32px;\n",
              "      padding: 0 0 0 0;\n",
              "      width: 32px;\n",
              "    }\n",
              "\n",
              "    .colab-df-convert:hover {\n",
              "      background-color: #E2EBFA;\n",
              "      box-shadow: 0px 1px 2px rgba(60, 64, 67, 0.3), 0px 1px 3px 1px rgba(60, 64, 67, 0.15);\n",
              "      fill: #174EA6;\n",
              "    }\n",
              "\n",
              "    .colab-df-buttons div {\n",
              "      margin-bottom: 4px;\n",
              "    }\n",
              "\n",
              "    [theme=dark] .colab-df-convert {\n",
              "      background-color: #3B4455;\n",
              "      fill: #D2E3FC;\n",
              "    }\n",
              "\n",
              "    [theme=dark] .colab-df-convert:hover {\n",
              "      background-color: #434B5C;\n",
              "      box-shadow: 0px 1px 3px 1px rgba(0, 0, 0, 0.15);\n",
              "      filter: drop-shadow(0px 1px 2px rgba(0, 0, 0, 0.3));\n",
              "      fill: #FFFFFF;\n",
              "    }\n",
              "  </style>\n",
              "\n",
              "    <script>\n",
              "      const buttonEl =\n",
              "        document.querySelector('#df-3a253038-cf9c-4537-86c3-5f5d6c36703e button.colab-df-convert');\n",
              "      buttonEl.style.display =\n",
              "        google.colab.kernel.accessAllowed ? 'block' : 'none';\n",
              "\n",
              "      async function convertToInteractive(key) {\n",
              "        const element = document.querySelector('#df-3a253038-cf9c-4537-86c3-5f5d6c36703e');\n",
              "        const dataTable =\n",
              "          await google.colab.kernel.invokeFunction('convertToInteractive',\n",
              "                                                    [key], {});\n",
              "        if (!dataTable) return;\n",
              "\n",
              "        const docLinkHtml = 'Like what you see? Visit the ' +\n",
              "          '<a target=\"_blank\" href=https://colab.research.google.com/notebooks/data_table.ipynb>data table notebook</a>'\n",
              "          + ' to learn more about interactive tables.';\n",
              "        element.innerHTML = '';\n",
              "        dataTable['output_type'] = 'display_data';\n",
              "        await google.colab.output.renderOutput(dataTable, element);\n",
              "        const docLink = document.createElement('div');\n",
              "        docLink.innerHTML = docLinkHtml;\n",
              "        element.appendChild(docLink);\n",
              "      }\n",
              "    </script>\n",
              "  </div>\n",
              "\n",
              "\n",
              "<div id=\"df-e772c0a5-ec87-42f2-b3bf-8c8ee5c32e4e\">\n",
              "  <button class=\"colab-df-quickchart\" onclick=\"quickchart('df-e772c0a5-ec87-42f2-b3bf-8c8ee5c32e4e')\"\n",
              "            title=\"Suggest charts\"\n",
              "            style=\"display:none;\">\n",
              "\n",
              "<svg xmlns=\"http://www.w3.org/2000/svg\" height=\"24px\"viewBox=\"0 0 24 24\"\n",
              "     width=\"24px\">\n",
              "    <g>\n",
              "        <path d=\"M19 3H5c-1.1 0-2 .9-2 2v14c0 1.1.9 2 2 2h14c1.1 0 2-.9 2-2V5c0-1.1-.9-2-2-2zM9 17H7v-7h2v7zm4 0h-2V7h2v10zm4 0h-2v-4h2v4z\"/>\n",
              "    </g>\n",
              "</svg>\n",
              "  </button>\n",
              "\n",
              "<style>\n",
              "  .colab-df-quickchart {\n",
              "      --bg-color: #E8F0FE;\n",
              "      --fill-color: #1967D2;\n",
              "      --hover-bg-color: #E2EBFA;\n",
              "      --hover-fill-color: #174EA6;\n",
              "      --disabled-fill-color: #AAA;\n",
              "      --disabled-bg-color: #DDD;\n",
              "  }\n",
              "\n",
              "  [theme=dark] .colab-df-quickchart {\n",
              "      --bg-color: #3B4455;\n",
              "      --fill-color: #D2E3FC;\n",
              "      --hover-bg-color: #434B5C;\n",
              "      --hover-fill-color: #FFFFFF;\n",
              "      --disabled-bg-color: #3B4455;\n",
              "      --disabled-fill-color: #666;\n",
              "  }\n",
              "\n",
              "  .colab-df-quickchart {\n",
              "    background-color: var(--bg-color);\n",
              "    border: none;\n",
              "    border-radius: 50%;\n",
              "    cursor: pointer;\n",
              "    display: none;\n",
              "    fill: var(--fill-color);\n",
              "    height: 32px;\n",
              "    padding: 0;\n",
              "    width: 32px;\n",
              "  }\n",
              "\n",
              "  .colab-df-quickchart:hover {\n",
              "    background-color: var(--hover-bg-color);\n",
              "    box-shadow: 0 1px 2px rgba(60, 64, 67, 0.3), 0 1px 3px 1px rgba(60, 64, 67, 0.15);\n",
              "    fill: var(--button-hover-fill-color);\n",
              "  }\n",
              "\n",
              "  .colab-df-quickchart-complete:disabled,\n",
              "  .colab-df-quickchart-complete:disabled:hover {\n",
              "    background-color: var(--disabled-bg-color);\n",
              "    fill: var(--disabled-fill-color);\n",
              "    box-shadow: none;\n",
              "  }\n",
              "\n",
              "  .colab-df-spinner {\n",
              "    border: 2px solid var(--fill-color);\n",
              "    border-color: transparent;\n",
              "    border-bottom-color: var(--fill-color);\n",
              "    animation:\n",
              "      spin 1s steps(1) infinite;\n",
              "  }\n",
              "\n",
              "  @keyframes spin {\n",
              "    0% {\n",
              "      border-color: transparent;\n",
              "      border-bottom-color: var(--fill-color);\n",
              "      border-left-color: var(--fill-color);\n",
              "    }\n",
              "    20% {\n",
              "      border-color: transparent;\n",
              "      border-left-color: var(--fill-color);\n",
              "      border-top-color: var(--fill-color);\n",
              "    }\n",
              "    30% {\n",
              "      border-color: transparent;\n",
              "      border-left-color: var(--fill-color);\n",
              "      border-top-color: var(--fill-color);\n",
              "      border-right-color: var(--fill-color);\n",
              "    }\n",
              "    40% {\n",
              "      border-color: transparent;\n",
              "      border-right-color: var(--fill-color);\n",
              "      border-top-color: var(--fill-color);\n",
              "    }\n",
              "    60% {\n",
              "      border-color: transparent;\n",
              "      border-right-color: var(--fill-color);\n",
              "    }\n",
              "    80% {\n",
              "      border-color: transparent;\n",
              "      border-right-color: var(--fill-color);\n",
              "      border-bottom-color: var(--fill-color);\n",
              "    }\n",
              "    90% {\n",
              "      border-color: transparent;\n",
              "      border-bottom-color: var(--fill-color);\n",
              "    }\n",
              "  }\n",
              "</style>\n",
              "\n",
              "  <script>\n",
              "    async function quickchart(key) {\n",
              "      const quickchartButtonEl =\n",
              "        document.querySelector('#' + key + ' button');\n",
              "      quickchartButtonEl.disabled = true;  // To prevent multiple clicks.\n",
              "      quickchartButtonEl.classList.add('colab-df-spinner');\n",
              "      try {\n",
              "        const charts = await google.colab.kernel.invokeFunction(\n",
              "            'suggestCharts', [key], {});\n",
              "      } catch (error) {\n",
              "        console.error('Error during call to suggestCharts:', error);\n",
              "      }\n",
              "      quickchartButtonEl.classList.remove('colab-df-spinner');\n",
              "      quickchartButtonEl.classList.add('colab-df-quickchart-complete');\n",
              "    }\n",
              "    (() => {\n",
              "      let quickchartButtonEl =\n",
              "        document.querySelector('#df-e772c0a5-ec87-42f2-b3bf-8c8ee5c32e4e button');\n",
              "      quickchartButtonEl.style.display =\n",
              "        google.colab.kernel.accessAllowed ? 'block' : 'none';\n",
              "    })();\n",
              "  </script>\n",
              "</div>\n",
              "\n",
              "    </div>\n",
              "  </div>\n"
            ],
            "application/vnd.google.colaboratory.intrinsic+json": {
              "type": "dataframe",
              "summary": "{\n  \"name\": \"patients_df[np\",\n  \"rows\": 10,\n  \"fields\": [\n    {\n      \"column\": \"phlegm\",\n      \"properties\": {\n        \"dtype\": \"number\",\n        \"std\": 0,\n        \"min\": 0,\n        \"max\": 1,\n        \"num_unique_values\": 2,\n        \"samples\": [\n          1,\n          0\n        ],\n        \"semantic_type\": \"\",\n        \"description\": \"\"\n      }\n    },\n    {\n      \"column\": \"chest_pain\",\n      \"properties\": {\n        \"dtype\": \"number\",\n        \"std\": 0,\n        \"min\": 0,\n        \"max\": 1,\n        \"num_unique_values\": 2,\n        \"samples\": [\n          1,\n          0\n        ],\n        \"semantic_type\": \"\",\n        \"description\": \"\"\n      }\n    },\n    {\n      \"column\": \"receiving_blood_transfusion\",\n      \"properties\": {\n        \"dtype\": \"number\",\n        \"std\": 0,\n        \"min\": 0,\n        \"max\": 1,\n        \"num_unique_values\": 2,\n        \"samples\": [\n          1,\n          0\n        ],\n        \"semantic_type\": \"\",\n        \"description\": \"\"\n      }\n    },\n    {\n      \"column\": \"family_history\",\n      \"properties\": {\n        \"dtype\": \"number\",\n        \"std\": 0,\n        \"min\": 0,\n        \"max\": 0,\n        \"num_unique_values\": 1,\n        \"samples\": [\n          0\n        ],\n        \"semantic_type\": \"\",\n        \"description\": \"\"\n      }\n    },\n    {\n      \"column\": \"stomach_pain\",\n      \"properties\": {\n        \"dtype\": \"number\",\n        \"std\": 0,\n        \"min\": 0,\n        \"max\": 0,\n        \"num_unique_values\": 1,\n        \"samples\": [\n          0\n        ],\n        \"semantic_type\": \"\",\n        \"description\": \"\"\n      }\n    },\n    {\n      \"column\": \"burning_micturition\",\n      \"properties\": {\n        \"dtype\": \"number\",\n        \"std\": 0,\n        \"min\": 0,\n        \"max\": 0,\n        \"num_unique_values\": 1,\n        \"samples\": [\n          0\n        ],\n        \"semantic_type\": \"\",\n        \"description\": \"\"\n      }\n    },\n    {\n      \"column\": \"prognosis\",\n      \"properties\": {\n        \"dtype\": \"string\",\n        \"num_unique_values\": 8,\n        \"samples\": [\n          \"Pneumonia\"\n        ],\n        \"semantic_type\": \"\",\n        \"description\": \"\"\n      }\n    }\n  ]\n}"
            }
          },
          "metadata": {},
          "execution_count": 6
        }
      ]
    },
    {
      "cell_type": "code",
      "metadata": {
        "id": "zVmjs9DYXhh2"
      },
      "source": [
        "diseases = patients_df[\"prognosis\"].unique()\n",
        "symptoms = patients_df.drop([\"prognosis\"], axis=1).columns.values\n",
        "counts = np.zeros((len(diseases), len(symptoms)))\n",
        "disease_counts = dict()\n",
        "for disease_id, disease in enumerate(diseases):\n",
        "    sub_df = patients_df.loc[patients_df[\"prognosis\"] == disease]\n",
        "    for symptom_id, symptom in enumerate(symptoms):\n",
        "        counts[disease_id][symptom_id] = np.sum(sub_df[symptom] == 1)\n",
        "    disease_counts[disease] = np.sum(counts[disease_id])\n",
        "plt.figure(figsize=(25, 8))\n",
        "sns.heatmap(counts, xticklabels=symptoms, yticklabels=diseases)\n",
        "plt.show()"
      ],
      "execution_count": null,
      "outputs": []
    },
    {
      "cell_type": "markdown",
      "metadata": {
        "id": "q6yhcS6TWcpN"
      },
      "source": [
        "### Looking at the Marginal Distributions"
      ]
    },
    {
      "cell_type": "code",
      "metadata": {
        "id": "xkM2bBiibpFA"
      },
      "source": [
        "fig = pg.Figure([pg.Bar(x=diseases, y=np.sum(counts, axis=1))])\n",
        "fig.update_layout(title_text='Diseases Probaility Histogram (Prior)', xaxis={'title': 'Disease'}, yaxis={'title': 'Count'})\n",
        "fig.show()\n",
        "fig = pg.Figure([pg.Bar(x=symptoms, y=np.sum(counts, axis=0))])\n",
        "fig.update_layout(title_text='Symptoms Probaility Histogram (Likelihood)', xaxis={'title': 'Symptom'}, yaxis={'title': 'Count'})\n",
        "fig.show()"
      ],
      "execution_count": null,
      "outputs": []
    },
    {
      "cell_type": "markdown",
      "metadata": {
        "id": "LR0VWstqWgsK"
      },
      "source": [
        "### Symptom Level Research, the Online Lookup"
      ]
    },
    {
      "cell_type": "code",
      "metadata": {
        "id": "gZNxPS_shDlJ"
      },
      "source": [
        "symptoms = [\"vomiting\", \"fatigue\"]\n",
        "filtered_df = patients_df[symptoms + [\"prognosis\"]].loc[(np.logical_or(*[patients_df[symptom] == 1 for symptom in symptoms]))]\n",
        "\n",
        "diseases = filtered_df[\"prognosis\"].unique()\n",
        "symptoms = filtered_df.drop([\"prognosis\"], axis=1).columns.values\n",
        "filtered_counts = np.zeros((len(diseases), len(symptoms)))\n",
        "disease_priors = np.zeros(len(diseases))\n",
        "for disease_id, disease in enumerate(diseases):\n",
        "    sub_df = filtered_df.loc[filtered_df[\"prognosis\"] == disease]\n",
        "    disease_priors[disease_id] = disease_counts[disease]\n",
        "    for symptom_id, symptom in enumerate(symptoms):\n",
        "        filtered_counts[disease_id][symptom_id] = np.sum(sub_df[symptom] == 1)\n",
        "plt.figure(figsize=(25, 8))\n",
        "sns.heatmap(filtered_counts, xticklabels=symptoms, yticklabels=diseases)\n",
        "plt.show()\n",
        "disease_priors = disease_priors / np.sum(disease_priors)"
      ],
      "execution_count": null,
      "outputs": []
    },
    {
      "cell_type": "markdown",
      "metadata": {
        "id": "jWBflC1vXMzM"
      },
      "source": [
        "Let's take a model of summing up probabilities, i.e. Probability due to both causes is the total number of people who had the Diseases with either of the two symptoms.\n",
        "\n",
        "Let's compute this distribution in a more understandable form, as the total probability."
      ]
    },
    {
      "cell_type": "code",
      "metadata": {
        "id": "vQFVUKMCXcqn"
      },
      "source": [
        "evidence = np.sum(filtered_counts / np.sum(filtered_counts, axis=0), axis=1) / 2\n",
        "\n",
        "fig = pg.Figure(data=[\n",
        "    pg.Bar(name='Evidence', x=diseases, y=evidence),\n",
        "])\n",
        "# Change the bar mode\n",
        "fig.show()"
      ],
      "execution_count": null,
      "outputs": []
    },
    {
      "cell_type": "markdown",
      "metadata": {
        "id": "D_TNTPkkXkR7"
      },
      "source": [
        "By looking at the symptoms (Googling them per say), we get this list of probabilities. You are already familiar that all queries about symptoms on Google lead you to cancer. Well here, they lead you to Dengue, Typhoid, and even Hypoglycemia, because these match the symptoms the best.\n",
        "\n",
        "But are these really the top diseases that a doctor will predict. **Is there really Dengue in your city, could it be that you are the only one who got it?**"
      ]
    },
    {
      "cell_type": "markdown",
      "metadata": {
        "id": "zM3Rm82MWkl3"
      },
      "source": [
        "### How Good Doctors think - A Bayesian perspective"
      ]
    },
    {
      "cell_type": "markdown",
      "metadata": {
        "id": "OVJ5KqAmXFPV"
      },
      "source": [
        "Again, let's use our Textbook knowledge of diseases and symptom probabilities as our Prior model, and what have just Googled as the posterior, and make a disease prediction model."
      ]
    },
    {
      "cell_type": "code",
      "metadata": {
        "id": "_s6e4Bq6mPht"
      },
      "source": [
        "evidence = np.sum(filtered_counts / np.sum(filtered_counts, axis=0), axis=1) / 2\n",
        "posterior = (evidence * disease_priors) / np.sum(evidence * disease_priors)\n",
        "\n",
        "fig = pg.Figure(data=[\n",
        "    pg.Bar(name='Evidence', x=diseases, y=evidence),\n",
        "    pg.Bar(name='Prior', x=diseases, y=disease_priors),\n",
        "    pg.Bar(name='Posterior', x=diseases, y=posterior)\n",
        "])\n",
        "# Change the bar mode\n",
        "fig.update_layout(barmode='group')\n",
        "fig.show()"
      ],
      "execution_count": null,
      "outputs": []
    },
    {
      "cell_type": "markdown",
      "metadata": {
        "id": "pQvd-pvhYtS4"
      },
      "source": [
        "Incorporating all the data we have, we understand that Tuberculosis is indeed the most probable disease, it's both a common disease and matches your symptoms.\n",
        "\n",
        "Very few people suffer from Hypoglycemia, it'snot a relevant disease to consider. Common cold is a very common disease, but it doesn't match symptoms well enough."
      ]
    },
    {
      "cell_type": "markdown",
      "metadata": {
        "id": "nhQDBxLRY52W"
      },
      "source": [
        "## The Take Home Lesson"
      ]
    },
    {
      "cell_type": "markdown",
      "metadata": {
        "id": "MPqRqMWDY8xS"
      },
      "source": [
        "We just noticed how good doctors think, incorporating all the Prior knowledge and the new found Evidence, computing good Joint probability distributions, etc. We need to do the same for our ML models."
      ]
    },
    {
      "cell_type": "markdown",
      "metadata": {
        "id": "iP5oSQ_SZc-X"
      },
      "source": [
        "Designing effective probabilistically correct models is very difficult but exteremely crucial to make understandable AI. It's of fundamental importance when we are dealing with small data.\n",
        "\n",
        "For large data, while probabilistically correct models are challenging, they are a major research topic, even if we can get this partially and obtain some explainability."
      ]
    },
    {
      "cell_type": "markdown",
      "metadata": {
        "id": "7Vk6kWo1aBaL"
      },
      "source": [
        "Suppose you want to make a vision model to implement Animal control in your college. There are jungles around so you want your models to be aware of all species. Your model needs to generate a warning if you see a dangerous animals. However, if features like Whiskers, etc. are spotted, you need to incorporate the idea that seeing a Lion is much less probable than seeing a similar looking cat, and have a more reasonable classifier. This sort of feature extraction and probabilistic reasoning with an ensemble of classifiers is partially Bayesian, and holds great promise in both research and industry."
      ]
    },
    {
      "cell_type": "markdown",
      "metadata": {
        "id": "MatP2fZIdGgh"
      },
      "source": [
        "For more visual stuff, you can take a look at these videos:\n",
        "* [3Blue1Brown: Bayes Rule](https://youtu.be/HZGCoVF3YvM)\n",
        "* [3Blue1Brown: The Proof of Bayes Rule](https://youtu.be/U_85TaXbeIo)\n",
        "* [3Blue1Brown: Bayes Rule is Nicer with odds | Medical Diagnostic](https://youtu.be/lG4VkPoG3ko)\n",
        "* [3Blue1Brown: Binomial distributions | Probabilities of probabilities](https://youtu.be/8idr1WZ1A7Q)\n",
        "* [Veritasium: They Bayesian Trap](https://youtu.be/R13BD8qKeTg)"
      ]
    },
    {
      "cell_type": "markdown",
      "metadata": {
        "id": "9_U3kUl2cD8A"
      },
      "source": [
        "That was all in Lab 2. Have fun, Happy learning 😊!"
      ]
    }
  ]
}